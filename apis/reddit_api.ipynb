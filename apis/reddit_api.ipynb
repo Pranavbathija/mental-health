{
 "cells": [
  {
   "cell_type": "code",
   "execution_count": 74,
   "metadata": {},
   "outputs": [],
   "source": [
    "import praw\n",
    "import pandas as pd\n"
   ]
  },
  {
   "cell_type": "code",
   "execution_count": 38,
   "metadata": {},
   "outputs": [],
   "source": [
    "reddit=praw.Reddit(client_id='LvSqym6mybwFxg',\n",
    "             client_secret='g_1HR3doqjNc-KoIftkyNJXmOGc',\n",
    "             user_agent='Mental health analysis with social media by /u/pranavb30',\n",
    "             redirect_uri='http://localhost:8000/')\n"
   ]
  },
  {
   "cell_type": "code",
   "execution_count": 54,
   "metadata": {},
   "outputs": [
    {
     "data": {
      "text/plain": [
       "'https://www.reddit.com/api/v1/authorize?client_id=LvSqym6mybwFxg&duration=permanent&redirect_uri=http%3A%2F%2Flocalhost%3A8000%2F&response_type=code&scope=identity+history+read+vote&state=...'"
      ]
     },
     "execution_count": 54,
     "metadata": {},
     "output_type": "execute_result"
    }
   ],
   "source": [
    "reddit.auth.url(['identity history read vote'], '...', 'permanent',)"
   ]
  },
  {
   "cell_type": "code",
   "execution_count": 55,
   "metadata": {},
   "outputs": [
    {
     "name": "stdout",
     "output_type": "stream",
     "text": [
      "481322205533-gKuSmFyeQchHGwdOCESb2bKJ6nA\n"
     ]
    }
   ],
   "source": [
    "print(reddit.auth.authorize(code='-V4yCDONdgeHghzEC1ydGUnBf-M'))"
   ]
  },
  {
   "cell_type": "code",
   "execution_count": 76,
   "metadata": {},
   "outputs": [
    {
     "name": "stdout",
     "output_type": "stream",
     "text": [
      "Mom came up with this impressive idea to celebrate my bday amidst lockdown (choco pie & chena khir)\n",
      "\n",
      "https://i.redd.it/gurfdfd1e7r41.jpg\n",
      "Late Night Random Discussion Thread !\n",
      "^Beep ^Boop ^Bot, ^I ^am ^a ^bot! ^if ^any ^problem ^askaway ^my ^creator\n",
      "https://www.reddit.com/r/india/comments/fw10cn/late_night_random_discussion_thread/\n"
     ]
    }
   ],
   "source": [
    "user=reddit.redditor('kewlboy99')\n",
    "upvotes=user.upvoted()\n",
    "for u in upvotes:\n",
    "    print(u.title)\n",
    "    print(u.selftext)\n",
    "    print(u.url)\n",
    "    \n",
    "    "
   ]
  }
 ],
 "metadata": {
  "kernelspec": {
   "display_name": "Python 3",
   "language": "python",
   "name": "python3"
  },
  "language_info": {
   "codemirror_mode": {
    "name": "ipython",
    "version": 3
   },
   "file_extension": ".py",
   "mimetype": "text/x-python",
   "name": "python",
   "nbconvert_exporter": "python",
   "pygments_lexer": "ipython3",
   "version": "3.7.4"
  }
 },
 "nbformat": 4,
 "nbformat_minor": 2
}
